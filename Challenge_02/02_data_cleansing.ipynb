{
 "cells": [
  {
   "cell_type": "markdown",
   "metadata": {},
   "source": [
    "# 2.  Data Cleansing"
   ]
  },
  {
   "cell_type": "markdown",
   "metadata": {},
   "source": [
    "\n",
    "This is the ```second``` notebook of N-Part series of DSS challenge 2 notebooks.\n",
    "\n",
    "- [Data Information](01_data_information)\n",
    "\n",
    "- Data Cleaning \n",
    "\n",
    "- [Data Analysis](03_data_analysis.ipynb)\n",
    "\n",
    "\n",
    "In this notebook, we will cleanup the page content data. This is a continuation of the [Data Information]() notebook where we had a first look at the data and parsed the excel file to get data in csv format.\n",
    "\n",
    "\n",
    "### Highlights\n",
    "- Understanding the Information\n",
    "- Clean column names\n",
    "- Split complex colums to multiple columns\n",
    "- Extract information from Page Column\n",
    "- Generate different dataframes for different types of pages: weekly_brainpost\n",
    "\n",
    "Here, we will do the data cleaning.\n",
    "\n",
    "Note: Some lines are com\n",
    "\n",
    "Let's start by loading the data."
   ]
  },
  {
   "cell_type": "code",
   "execution_count": 2,
   "metadata": {},
   "outputs": [],
   "source": [
    "import pandas as pd\n",
    "import brainpostpy.brainpost_data_tidy as tidy\n",
    "from urllib.parse import urlparse, parse_qs\n",
    "import numpy as np"
   ]
  },
  {
   "cell_type": "code",
   "execution_count": 3,
   "metadata": {},
   "outputs": [],
   "source": [
    "DATA_DIR = 'data'\n",
    "content_data = 'content_data.csv'\n",
    "page_view_data = 'page_view_data.csv' "
   ]
  },
  {
   "cell_type": "code",
   "execution_count": 4,
   "metadata": {},
   "outputs": [],
   "source": [
    "content_data_df = pd.read_csv(f'{DATA_DIR}/{content_data}')"
   ]
  },
  {
   "cell_type": "code",
   "execution_count": 5,
   "metadata": {
    "scrolled": true
   },
   "outputs": [
    {
     "data": {
      "text/html": [
       "<div>\n",
       "<style scoped>\n",
       "    .dataframe tbody tr th:only-of-type {\n",
       "        vertical-align: middle;\n",
       "    }\n",
       "\n",
       "    .dataframe tbody tr th {\n",
       "        vertical-align: top;\n",
       "    }\n",
       "\n",
       "    .dataframe thead th {\n",
       "        text-align: right;\n",
       "    }\n",
       "</style>\n",
       "<table border=\"1\" class=\"dataframe\">\n",
       "  <thead>\n",
       "    <tr style=\"text-align: right;\">\n",
       "      <th></th>\n",
       "      <th>Page</th>\n",
       "      <th>Source / Medium</th>\n",
       "      <th>Date Range</th>\n",
       "      <th>Pageviews</th>\n",
       "      <th>Unique Pageviews</th>\n",
       "      <th>Avg. Time on Page</th>\n",
       "      <th>Entrances</th>\n",
       "      <th>Bounce Rate</th>\n",
       "      <th>% Exit</th>\n",
       "      <th>Page Value</th>\n",
       "    </tr>\n",
       "  </thead>\n",
       "  <tbody>\n",
       "    <tr>\n",
       "      <th>0</th>\n",
       "      <td>/weekly-brainpost/tag/sharp-wave+ripples</td>\n",
       "      <td>google / organic</td>\n",
       "      <td>Oct 25, 2020 - Oct 31, 2020</td>\n",
       "      <td>1</td>\n",
       "      <td>1</td>\n",
       "      <td>00:00:00</td>\n",
       "      <td>1</td>\n",
       "      <td>1.0</td>\n",
       "      <td>1.0</td>\n",
       "      <td>0</td>\n",
       "    </tr>\n",
       "    <tr>\n",
       "      <th>1</th>\n",
       "      <td>/weekly-brainpost/tag/sharp-wave+ripples</td>\n",
       "      <td>google / organic</td>\n",
       "      <td>Oct 18, 2020 - Oct 24, 2020</td>\n",
       "      <td>0</td>\n",
       "      <td>0</td>\n",
       "      <td>00:00:00</td>\n",
       "      <td>0</td>\n",
       "      <td>0.0</td>\n",
       "      <td>0.0</td>\n",
       "      <td>0</td>\n",
       "    </tr>\n",
       "  </tbody>\n",
       "</table>\n",
       "</div>"
      ],
      "text/plain": [
       "                                       Page   Source / Medium  \\\n",
       "0  /weekly-brainpost/tag/sharp-wave+ripples  google / organic   \n",
       "1  /weekly-brainpost/tag/sharp-wave+ripples  google / organic   \n",
       "\n",
       "                    Date Range  Pageviews  Unique Pageviews Avg. Time on Page  \\\n",
       "0  Oct 25, 2020 - Oct 31, 2020          1                 1          00:00:00   \n",
       "1  Oct 18, 2020 - Oct 24, 2020          0                 0          00:00:00   \n",
       "\n",
       "   Entrances  Bounce Rate  % Exit  Page Value  \n",
       "0          1          1.0     1.0           0  \n",
       "1          0          0.0     0.0           0  "
      ]
     },
     "execution_count": 5,
     "metadata": {},
     "output_type": "execute_result"
    }
   ],
   "source": [
    "content_data_df.head(2)"
   ]
  },
  {
   "cell_type": "markdown",
   "metadata": {},
   "source": [
    "#### Understanding the data Columns\n",
    "\n",
    "- Page\n",
    "    - Page column contains the page information from the URL. The data here has plenty of information related to the page. We just need to organize it.\n",
    "- Source/Medium\n",
    "    - This is the source of the traffic. whether the traffic is organic or from Google or both.\n",
    "- Date range\n",
    "    - This is the date range for the information has start and end date separated by a hyphen.\n",
    "- Pageviews\n",
    "    - Count of page views\n",
    "- Unique page Views\n",
    "    - page views from unique user\n",
    "- Average time spent on page\n",
    "    - This is also self explanatory. The average time is given in the format HH:mm:ss\n",
    "- Entrances\n",
    "    - Number of entrances to the page\n",
    "- Bounce Rate\n",
    "    - Bounce rate of the page\n",
    "- % Exit\n",
    "    - Percentage of exit \n",
    "- Page Value\n",
    "    - [Page value](https://support.google.com/analytics/answer/2695658?hl=en)\n",
    "    \n",
    "    \n",
    "\n",
    "There is so much information, but we need to tidy up the data before we can see some useful insights."
   ]
  },
  {
   "cell_type": "markdown",
   "metadata": {},
   "source": [
    "### Data Cleanup\n",
    "- Let's start cleaning up.  First of all let's first rename the columns."
   ]
  },
  {
   "cell_type": "code",
   "execution_count": 6,
   "metadata": {
    "scrolled": true
   },
   "outputs": [
    {
     "data": {
      "text/html": [
       "<div>\n",
       "<style scoped>\n",
       "    .dataframe tbody tr th:only-of-type {\n",
       "        vertical-align: middle;\n",
       "    }\n",
       "\n",
       "    .dataframe tbody tr th {\n",
       "        vertical-align: top;\n",
       "    }\n",
       "\n",
       "    .dataframe thead th {\n",
       "        text-align: right;\n",
       "    }\n",
       "</style>\n",
       "<table border=\"1\" class=\"dataframe\">\n",
       "  <thead>\n",
       "    <tr style=\"text-align: right;\">\n",
       "      <th></th>\n",
       "      <th>page</th>\n",
       "      <th>source_medium</th>\n",
       "      <th>date_range</th>\n",
       "      <th>pageviews</th>\n",
       "      <th>unique_pageviews</th>\n",
       "      <th>avg_time_on_page</th>\n",
       "      <th>entrances</th>\n",
       "      <th>bounce_rate</th>\n",
       "      <th>percent_exit</th>\n",
       "      <th>page_value</th>\n",
       "    </tr>\n",
       "  </thead>\n",
       "  <tbody>\n",
       "    <tr>\n",
       "      <th>0</th>\n",
       "      <td>/weekly-brainpost/tag/sharp-wave+ripples</td>\n",
       "      <td>google / organic</td>\n",
       "      <td>Oct 25, 2020 - Oct 31, 2020</td>\n",
       "      <td>1</td>\n",
       "      <td>1</td>\n",
       "      <td>00:00:00</td>\n",
       "      <td>1</td>\n",
       "      <td>1.0</td>\n",
       "      <td>1.0</td>\n",
       "      <td>0</td>\n",
       "    </tr>\n",
       "  </tbody>\n",
       "</table>\n",
       "</div>"
      ],
      "text/plain": [
       "                                       page     source_medium  \\\n",
       "0  /weekly-brainpost/tag/sharp-wave+ripples  google / organic   \n",
       "\n",
       "                    date_range  pageviews  unique_pageviews avg_time_on_page  \\\n",
       "0  Oct 25, 2020 - Oct 31, 2020          1                 1         00:00:00   \n",
       "\n",
       "   entrances  bounce_rate  percent_exit  page_value  \n",
       "0          1          1.0           1.0           0  "
      ]
     },
     "execution_count": 6,
     "metadata": {},
     "output_type": "execute_result"
    }
   ],
   "source": [
    "content_data_df = tidy.tidy_column_names(content_data_df)\n",
    "content_data_df.head(1)"
   ]
  },
  {
   "cell_type": "markdown",
   "metadata": {},
   "source": [
    "- Let's keep the ```page``` column as it is for a while. There is a lot to do with that column. we can do it later.\n",
    "- Second column is ```source_medium```, It is a good idea to split ```source``` and ```column```.\n",
    "- We can do the same for ```date_range``` column. Date range can be better represented in two columns as ```start_date``` and ```end_date```."
   ]
  },
  {
   "cell_type": "code",
   "execution_count": 7,
   "metadata": {},
   "outputs": [
    {
     "data": {
      "text/plain": [
       "Index(['page', 'pageviews', 'unique_pageviews', 'avg_time_on_page',\n",
       "       'entrances', 'bounce_rate', 'percent_exit', 'page_value', 'source',\n",
       "       'medium', 'start_date', 'end_date'],\n",
       "      dtype='object')"
      ]
     },
     "execution_count": 7,
     "metadata": {},
     "output_type": "execute_result"
    }
   ],
   "source": [
    "#source_medium\n",
    "content_data_df[['source','medium']] = content_data_df.source_medium.str.split(\"/\",expand=True,)\n",
    "#Also we need to clean up the source(some are repeaded due to subdomains)\n",
    "content_data_df['source'] = content_data_df['source'].map(lambda x: x.strip())\n",
    "content_data_df['source'] = content_data_df['source'].map(lambda x: 'facebook.com' if  'facebook.com' in x else x)\n",
    "content_data_df['source'] = content_data_df['source'].map(lambda x: 'gmail' if 'mail.google.com' in x else x)\n",
    "content_data_df['source'] = content_data_df['source'].map(lambda x: 'google' if 'google.com' in x else x)\n",
    "content_data_df['source'] = content_data_df['source'].map(lambda x: 'yahoo' if 'yahoo.com' in x else x)\n",
    "content_data_df['source'] = content_data_df['source'].map(lambda x: 'bing' if 'bing.com' in x else x)\n",
    "content_data_df['source'] = content_data_df['source'].map(lambda x: 'baidu' if 'baidu.com' in x else x)\n",
    "content_data_df['source'] = content_data_df['source'].map(lambda x: 'facebook' if 'facebook.com' in x else x)\n",
    "content_data_df['source'] = content_data_df['source'].map(lambda x: 'instagram' if 'instagram.com' in x else x)\n",
    "content_data_df['source'] = content_data_df['source'].map(lambda x: 'altmetric' if 'altmetric.com' in x else x)\n",
    "content_data_df['source'] = content_data_df['source'].map(lambda x: 'stanford.edu' if 'stanford.edu' in x else x)\n",
    "content_data_df['source'] = content_data_df['source'].map(lambda x: 'csu.edu.au' if 'csu.edu.au' in x else x)\n",
    "content_data_df['source'] = content_data_df['source'].map(lambda x: 'columbia.edu' if 'columbia.edu' in x else x)\n",
    "content_data_df['source'] = content_data_df['source'].map(lambda x: '(direct)' if 'brainpost.co' in x else x)\n",
    "\n",
    "\n",
    "content_data_df = content_data_df.drop(['source_medium'], axis=1)\n",
    "#date_range\n",
    "content_data_df[['start_date','end_date']] = content_data_df.date_range.str.split(\"-\",expand=True,)\n",
    "content_data_df = content_data_df.drop(['date_range'], axis=1)\n",
    "content_data_df.head(1)\n",
    "content_data_df.columns.str.strip() #remve space aroudn the words"
   ]
  },
  {
   "cell_type": "markdown",
   "metadata": {},
   "source": [
    "- Now, the time in ```avg_time_on_page``` column is in hour:minute:seconds format. Let's make it numeric by converting to seconds."
   ]
  },
  {
   "cell_type": "code",
   "execution_count": 8,
   "metadata": {},
   "outputs": [],
   "source": [
    "content_data_df['avg_time_on_page'] = content_data_df['avg_time_on_page'].apply(tidy.time_hhmmss_to_sec)"
   ]
  },
  {
   "cell_type": "markdown",
   "metadata": {},
   "source": [
    "Let's have a look at ```page_value``` column.\n",
    "[Page Value](https://support.google.com/analytics/answer/2695658?hl=en) is the average value for a page that a user visited before landing on the goal page or completing an Ecommerce transaction (or both). "
   ]
  },
  {
   "cell_type": "code",
   "execution_count": 9,
   "metadata": {},
   "outputs": [
    {
     "data": {
      "text/plain": [
       "array([0])"
      ]
     },
     "execution_count": 9,
     "metadata": {},
     "output_type": "execute_result"
    }
   ],
   "source": [
    "content_data_df['page_value'].unique()"
   ]
  },
  {
   "cell_type": "markdown",
   "metadata": {},
   "source": [
    " ```page_value``` column does not have any meaningful data, hence it's not worth keeping. Let's remove that column."
   ]
  },
  {
   "cell_type": "code",
   "execution_count": 10,
   "metadata": {},
   "outputs": [
    {
     "data": {
      "text/html": [
       "<div>\n",
       "<style scoped>\n",
       "    .dataframe tbody tr th:only-of-type {\n",
       "        vertical-align: middle;\n",
       "    }\n",
       "\n",
       "    .dataframe tbody tr th {\n",
       "        vertical-align: top;\n",
       "    }\n",
       "\n",
       "    .dataframe thead th {\n",
       "        text-align: right;\n",
       "    }\n",
       "</style>\n",
       "<table border=\"1\" class=\"dataframe\">\n",
       "  <thead>\n",
       "    <tr style=\"text-align: right;\">\n",
       "      <th></th>\n",
       "      <th>page</th>\n",
       "      <th>pageviews</th>\n",
       "      <th>unique_pageviews</th>\n",
       "      <th>avg_time_on_page</th>\n",
       "      <th>entrances</th>\n",
       "      <th>bounce_rate</th>\n",
       "      <th>percent_exit</th>\n",
       "      <th>source</th>\n",
       "      <th>medium</th>\n",
       "      <th>start_date</th>\n",
       "      <th>end_date</th>\n",
       "    </tr>\n",
       "  </thead>\n",
       "  <tbody>\n",
       "    <tr>\n",
       "      <th>0</th>\n",
       "      <td>/weekly-brainpost/tag/sharp-wave+ripples</td>\n",
       "      <td>1</td>\n",
       "      <td>1</td>\n",
       "      <td>0</td>\n",
       "      <td>1</td>\n",
       "      <td>1.0</td>\n",
       "      <td>1.0</td>\n",
       "      <td>google</td>\n",
       "      <td>organic</td>\n",
       "      <td>Oct 25, 2020</td>\n",
       "      <td>Oct 31, 2020</td>\n",
       "    </tr>\n",
       "  </tbody>\n",
       "</table>\n",
       "</div>"
      ],
      "text/plain": [
       "                                       page  pageviews  unique_pageviews  \\\n",
       "0  /weekly-brainpost/tag/sharp-wave+ripples          1                 1   \n",
       "\n",
       "   avg_time_on_page  entrances  bounce_rate  percent_exit  source    medium  \\\n",
       "0                 0          1          1.0           1.0  google   organic   \n",
       "\n",
       "      start_date       end_date  \n",
       "0  Oct 25, 2020    Oct 31, 2020  "
      ]
     },
     "execution_count": 10,
     "metadata": {},
     "output_type": "execute_result"
    }
   ],
   "source": [
    "content_data_df = content_data_df.drop(['page_value'], axis=1)\n",
    "content_data_df.head(1)"
   ]
  },
  {
   "cell_type": "markdown",
   "metadata": {},
   "source": [
    "###### Now let's get some useful information from the ```page``` column\n",
    "- As the ```page``` column gives us information about the page url, as the url is well optimized, it gives clear information about which category the page belongs. We can see some tag names too. So let's clean it up...\n",
    "- We are interested in paths and querystrings let's check what kind of query strings we have."
   ]
  },
  {
   "cell_type": "code",
   "execution_count": 11,
   "metadata": {},
   "outputs": [],
   "source": [
    "page_vals = content_data_df['page'].values"
   ]
  },
  {
   "cell_type": "markdown",
   "metadata": {},
   "source": [
    "From observation of values in page columns, we can see there are some pages starting with translate_c, they are the pages visited through google translate. Let's first do two operations:\n",
    "1. Find actual page url in the translate url, and use that for further analysis.\n",
    "2. Prepare data for translation statistics."
   ]
  },
  {
   "cell_type": "code",
   "execution_count": 12,
   "metadata": {},
   "outputs": [
    {
     "name": "stdout",
     "output_type": "stream",
     "text": [
      "/weekly-brainpost/2020/10/6/neuronal-computation-underlying-inference-in-the-brain?fbclid=IwAR25ei5RFRF3Bt7VmQu4It6HIKiyPbXAf3yQQIFKN7b_MwvxI5a\n",
      "/weekly-brainpost/2020/10/6/neuronal-computation-underlying-inference-in-the-brain?fbclid=IwAR25ei5RFRF3Bt7VmQu4It6HIKiyPbXAf3yQQIFKN7b_MwvxI5a\n",
      "/weekly-brainpost/2018/6/19/stress-hormones-sensitize-fear-circuits-in-the-brain\n",
      "/weekly-brainpost/2018/6/19/stress-hormones-sensitize-fear-circuits-in-the-brain\n",
      "/brainpost-life-hacks/2019/1/2/new-year-new-me-the-neuroscience-of-habit-formation\n",
      "/brainpost-life-hacks/2019/1/2/new-year-new-me-the-neuroscience-of-habit-formation\n",
      "/weekly-brainpost/2020/7/28/cortical-network-responses-and-visual-semantics-of-movie-fragments\n",
      "/weekly-brainpost/2020/7/28/cortical-network-responses-and-visual-semantics-of-movie-fragments\n",
      "/weekly-brainpost/2020/6/23/decoding-of-natural-sounds-in-congenitally-blind-individuals\n",
      "/weekly-brainpost/2020/6/23/decoding-of-natural-sounds-in-congenitally-blind-individuals\n",
      "/weekly-brainpost/2020/6/23/decoding-of-natural-sounds-in-congenitally-blind-individuals\n",
      "/weekly-brainpost/2020/6/23/decoding-of-natural-sounds-in-congenitally-blind-individuals\n"
     ]
    }
   ],
   "source": [
    "for index, row in content_data_df.iterrows():\n",
    "    if '/translate_c' in row['page']:\n",
    "        print(tidy.get_page_if_translated(row['page']))"
   ]
  },
  {
   "cell_type": "markdown",
   "metadata": {},
   "source": [
    "We will replace all pages having translate_c in it with the real url later in the cleaning process. Before that let's prepare a differnt dataframe for the translation information."
   ]
  },
  {
   "cell_type": "code",
   "execution_count": 13,
   "metadata": {},
   "outputs": [
    {
     "name": "stdout",
     "output_type": "stream",
     "text": [
      "Total Number of times the translated pages were viewed: 12\n"
     ]
    }
   ],
   "source": [
    "count_translations = 0\n",
    "translation_df = pd.DataFrame(columns={'page', 'language'})\n",
    "pages = []\n",
    "languages = []\n",
    "for index, row in content_data_df.iterrows():\n",
    "    if '/translate_c' in row['page']:\n",
    "        count_translations = count_translations + 1\n",
    "        parsed_page = urlparse(row[\"page\"])\n",
    "        ppq = parsed_page.query\n",
    "        split_query = ppq.split('&')\n",
    "        for split_pair in split_query:\n",
    "            if split_pair.startswith('hl='):\n",
    "                languages.append(split_pair[3:])\n",
    "            elif split_pair.startswith('u='):\n",
    "                pages.append(split_pair[2:].replace('https://www.brainpost.co/','/'))\n",
    "translation_df['page'] = pages\n",
    "translation_df['language'] = languages\n",
    "print(f\"Total Number of times the translated pages were viewed: {count_translations}\")"
   ]
  },
  {
   "cell_type": "markdown",
   "metadata": {},
   "source": [
    "Now we have translated dataframe, we will extract some more information from translation_df page column later. For now let's see what other information we have in page query strings."
   ]
  },
  {
   "cell_type": "code",
   "execution_count": 14,
   "metadata": {},
   "outputs": [],
   "source": [
    "# COMMENTED TO AVOID LONG OUTPUT\n",
    "# tidy.check_query_keys(page_vals)"
   ]
  },
  {
   "cell_type": "markdown",
   "metadata": {},
   "source": [
    "Not sure what all of these query strings means but some of them look interesting and useful:\n",
    "\n",
    "- fbclid: Means traffic from link sharing on facebook.\n",
    "- rq : when the page is opened from search result\n",
    "- month:\n",
    "- offset: pagination is clicked\n",
    "- q : search on the site\n",
    "- depth:\n",
    "- back: back link from google.\n",
    "- s: \n",
    "- platform:\n",
    "- ss_source:\n",
    "- amp:\n",
    "- sqsscreenshot:\n",
    "- donatePageId:\n",
    "- url:\n",
    "\n",
    "From, all these query strings we can obtain important information about traffic.\n",
    "Let's extend our dataframe with few extra columns, just in case they can be handy later.."
   ]
  },
  {
   "cell_type": "code",
   "execution_count": 15,
   "metadata": {
    "scrolled": true
   },
   "outputs": [
    {
     "data": {
      "text/html": [
       "<div>\n",
       "<style scoped>\n",
       "    .dataframe tbody tr th:only-of-type {\n",
       "        vertical-align: middle;\n",
       "    }\n",
       "\n",
       "    .dataframe tbody tr th {\n",
       "        vertical-align: top;\n",
       "    }\n",
       "\n",
       "    .dataframe thead th {\n",
       "        text-align: right;\n",
       "    }\n",
       "</style>\n",
       "<table border=\"1\" class=\"dataframe\">\n",
       "  <thead>\n",
       "    <tr style=\"text-align: right;\">\n",
       "      <th></th>\n",
       "      <th>page</th>\n",
       "      <th>pageviews</th>\n",
       "      <th>unique_pageviews</th>\n",
       "      <th>avg_time_on_page</th>\n",
       "      <th>entrances</th>\n",
       "      <th>bounce_rate</th>\n",
       "      <th>percent_exit</th>\n",
       "      <th>source</th>\n",
       "      <th>medium</th>\n",
       "      <th>start_date</th>\n",
       "      <th>end_date</th>\n",
       "      <th>path</th>\n",
       "      <th>from_facebook</th>\n",
       "      <th>google_keyword</th>\n",
       "      <th>from_google</th>\n",
       "      <th>search_keyword</th>\n",
       "      <th>sqsscreenshot</th>\n",
       "      <th>platform</th>\n",
       "    </tr>\n",
       "  </thead>\n",
       "  <tbody>\n",
       "    <tr>\n",
       "      <th>0</th>\n",
       "      <td>/weekly-brainpost/tag/sharp-wave+ripples</td>\n",
       "      <td>1</td>\n",
       "      <td>1</td>\n",
       "      <td>0</td>\n",
       "      <td>1</td>\n",
       "      <td>1.0</td>\n",
       "      <td>1.0</td>\n",
       "      <td>google</td>\n",
       "      <td>organic</td>\n",
       "      <td>Oct 25, 2020</td>\n",
       "      <td>Oct 31, 2020</td>\n",
       "      <td>/weekly-brainpost/tag/sharp-wave+ripples</td>\n",
       "      <td>NaN</td>\n",
       "      <td>NaN</td>\n",
       "      <td>NaN</td>\n",
       "      <td>NaN</td>\n",
       "      <td>NaN</td>\n",
       "      <td>NaN</td>\n",
       "    </tr>\n",
       "    <tr>\n",
       "      <th>1</th>\n",
       "      <td>/weekly-brainpost/tag/sharp-wave+ripples</td>\n",
       "      <td>0</td>\n",
       "      <td>0</td>\n",
       "      <td>0</td>\n",
       "      <td>0</td>\n",
       "      <td>0.0</td>\n",
       "      <td>0.0</td>\n",
       "      <td>google</td>\n",
       "      <td>organic</td>\n",
       "      <td>Oct 18, 2020</td>\n",
       "      <td>Oct 24, 2020</td>\n",
       "      <td>/weekly-brainpost/tag/sharp-wave+ripples</td>\n",
       "      <td>NaN</td>\n",
       "      <td>NaN</td>\n",
       "      <td>NaN</td>\n",
       "      <td>NaN</td>\n",
       "      <td>NaN</td>\n",
       "      <td>NaN</td>\n",
       "    </tr>\n",
       "  </tbody>\n",
       "</table>\n",
       "</div>"
      ],
      "text/plain": [
       "                                       page  pageviews  unique_pageviews  \\\n",
       "0  /weekly-brainpost/tag/sharp-wave+ripples          1                 1   \n",
       "1  /weekly-brainpost/tag/sharp-wave+ripples          0                 0   \n",
       "\n",
       "   avg_time_on_page  entrances  bounce_rate  percent_exit  source    medium  \\\n",
       "0                 0          1          1.0           1.0  google   organic   \n",
       "1                 0          0          0.0           0.0  google   organic   \n",
       "\n",
       "      start_date       end_date                                      path  \\\n",
       "0  Oct 25, 2020    Oct 31, 2020  /weekly-brainpost/tag/sharp-wave+ripples   \n",
       "1  Oct 18, 2020    Oct 24, 2020  /weekly-brainpost/tag/sharp-wave+ripples   \n",
       "\n",
       "  from_facebook google_keyword from_google search_keyword sqsscreenshot  \\\n",
       "0           NaN            NaN         NaN            NaN           NaN   \n",
       "1           NaN            NaN         NaN            NaN           NaN   \n",
       "\n",
       "  platform  \n",
       "0      NaN  \n",
       "1      NaN  "
      ]
     },
     "execution_count": 15,
     "metadata": {},
     "output_type": "execute_result"
    }
   ],
   "source": [
    "content_data_df = tidy.extend_data_with_info_from_page(content_data_df)\n",
    "content_data_df.head(2)"
   ]
  },
  {
   "cell_type": "markdown",
   "metadata": {},
   "source": [
    "Let's find out what other information we can have from ```page``` column by checking the structure of ```path```."
   ]
  },
  {
   "cell_type": "code",
   "execution_count": 16,
   "metadata": {},
   "outputs": [],
   "source": [
    "# COMMENTED TO AVOID LONG OUTPUT\n",
    "#content_data_df['path'].unique()"
   ]
  },
  {
   "cell_type": "markdown",
   "metadata": {},
   "source": [
    "Interestingly, the ```path```s have information about the titles and publication dates of the  ```weekly_brainposts```. Let's get all weekly_brainposts with their information in separate dataframe."
   ]
  },
  {
   "cell_type": "markdown",
   "metadata": {},
   "source": [
    "#### Extracting  information from weekly_brainposts\n",
    "\n",
    "We are interested in weekly_brainposts. Lets have a look at what the data in weekly_brain_posts looks like"
   ]
  },
  {
   "cell_type": "code",
   "execution_count": 18,
   "metadata": {},
   "outputs": [],
   "source": [
    "for index, row in content_data_df.iterrows():\n",
    "    if '/weekly-brainpost' in row['path']:\n",
    "        # COMMENTED TO AVOID LONG OUTPUT\n",
    "        #print(row['path'])\n",
    "        pass"
   ]
  },
  {
   "cell_type": "markdown",
   "metadata": {},
   "source": [
    "Looks like most of the columns are from weekly_brainpost"
   ]
  },
  {
   "cell_type": "markdown",
   "metadata": {},
   "source": [
    "We have some important information in ```path```.\n",
    "##### Using the information in ```path``` column, let's tidy up the information for weekly_brainposts with all information we need\n",
    "1.  Check if there are urls in weekly_brainpost with no further path. For example http://brainpost.co/weekly_brainpost/\n",
    "2.  Check how the paths is formed. For example, tags, dates etc..\n",
    "3. Create new columns tag, page_title, pub_date, section=weekly_brainpost"
   ]
  },
  {
   "cell_type": "code",
   "execution_count": 19,
   "metadata": {},
   "outputs": [],
   "source": [
    "content_data_df = tidy.tidy_weekly_brainpost(content_data_df)"
   ]
  },
  {
   "cell_type": "code",
   "execution_count": 20,
   "metadata": {},
   "outputs": [
    {
     "data": {
      "text/html": [
       "<div>\n",
       "<style scoped>\n",
       "    .dataframe tbody tr th:only-of-type {\n",
       "        vertical-align: middle;\n",
       "    }\n",
       "\n",
       "    .dataframe tbody tr th {\n",
       "        vertical-align: top;\n",
       "    }\n",
       "\n",
       "    .dataframe thead th {\n",
       "        text-align: right;\n",
       "    }\n",
       "</style>\n",
       "<table border=\"1\" class=\"dataframe\">\n",
       "  <thead>\n",
       "    <tr style=\"text-align: right;\">\n",
       "      <th></th>\n",
       "      <th>page</th>\n",
       "      <th>pageviews</th>\n",
       "      <th>unique_pageviews</th>\n",
       "      <th>avg_time_on_page</th>\n",
       "      <th>entrances</th>\n",
       "      <th>bounce_rate</th>\n",
       "      <th>percent_exit</th>\n",
       "      <th>source</th>\n",
       "      <th>medium</th>\n",
       "      <th>start_date</th>\n",
       "      <th>...</th>\n",
       "      <th>from_facebook</th>\n",
       "      <th>google_keyword</th>\n",
       "      <th>from_google</th>\n",
       "      <th>search_keyword</th>\n",
       "      <th>sqsscreenshot</th>\n",
       "      <th>platform</th>\n",
       "      <th>section</th>\n",
       "      <th>tag</th>\n",
       "      <th>pub_date</th>\n",
       "      <th>page_title</th>\n",
       "    </tr>\n",
       "  </thead>\n",
       "  <tbody>\n",
       "    <tr>\n",
       "      <th>0</th>\n",
       "      <td>/weekly-brainpost/tag/sharp-wave+ripples</td>\n",
       "      <td>1</td>\n",
       "      <td>1</td>\n",
       "      <td>0</td>\n",
       "      <td>1</td>\n",
       "      <td>1.0</td>\n",
       "      <td>1.0</td>\n",
       "      <td>google</td>\n",
       "      <td>organic</td>\n",
       "      <td>Oct 25, 2020</td>\n",
       "      <td>...</td>\n",
       "      <td>NaN</td>\n",
       "      <td>NaN</td>\n",
       "      <td>NaN</td>\n",
       "      <td>NaN</td>\n",
       "      <td>NaN</td>\n",
       "      <td>NaN</td>\n",
       "      <td>weekly-brainpost</td>\n",
       "      <td>sharp-wave ripples</td>\n",
       "      <td>NaN</td>\n",
       "      <td>NaN</td>\n",
       "    </tr>\n",
       "    <tr>\n",
       "      <th>1</th>\n",
       "      <td>/weekly-brainpost/tag/sharp-wave+ripples</td>\n",
       "      <td>0</td>\n",
       "      <td>0</td>\n",
       "      <td>0</td>\n",
       "      <td>0</td>\n",
       "      <td>0.0</td>\n",
       "      <td>0.0</td>\n",
       "      <td>google</td>\n",
       "      <td>organic</td>\n",
       "      <td>Oct 18, 2020</td>\n",
       "      <td>...</td>\n",
       "      <td>NaN</td>\n",
       "      <td>NaN</td>\n",
       "      <td>NaN</td>\n",
       "      <td>NaN</td>\n",
       "      <td>NaN</td>\n",
       "      <td>NaN</td>\n",
       "      <td>weekly-brainpost</td>\n",
       "      <td>sharp-wave ripples</td>\n",
       "      <td>NaN</td>\n",
       "      <td>NaN</td>\n",
       "    </tr>\n",
       "  </tbody>\n",
       "</table>\n",
       "<p>2 rows × 22 columns</p>\n",
       "</div>"
      ],
      "text/plain": [
       "                                       page  pageviews  unique_pageviews  \\\n",
       "0  /weekly-brainpost/tag/sharp-wave+ripples          1                 1   \n",
       "1  /weekly-brainpost/tag/sharp-wave+ripples          0                 0   \n",
       "\n",
       "   avg_time_on_page  entrances  bounce_rate  percent_exit  source    medium  \\\n",
       "0                 0          1          1.0           1.0  google   organic   \n",
       "1                 0          0          0.0           0.0  google   organic   \n",
       "\n",
       "      start_date  ... from_facebook google_keyword from_google search_keyword  \\\n",
       "0  Oct 25, 2020   ...           NaN            NaN         NaN            NaN   \n",
       "1  Oct 18, 2020   ...           NaN            NaN         NaN            NaN   \n",
       "\n",
       "  sqsscreenshot platform           section                 tag pub_date  \\\n",
       "0           NaN      NaN  weekly-brainpost  sharp-wave ripples      NaN   \n",
       "1           NaN      NaN  weekly-brainpost  sharp-wave ripples      NaN   \n",
       "\n",
       "  page_title  \n",
       "0        NaN  \n",
       "1        NaN  \n",
       "\n",
       "[2 rows x 22 columns]"
      ]
     },
     "execution_count": 20,
     "metadata": {},
     "output_type": "execute_result"
    }
   ],
   "source": [
    "content_data_df.head(2)"
   ]
  },
  {
   "cell_type": "markdown",
   "metadata": {},
   "source": [
    "Apart from weekly brainposts, let's see what else we have in 'path'"
   ]
  },
  {
   "cell_type": "markdown",
   "metadata": {},
   "source": [
    "The other big section is \"brainpost-life-hacks\" and 'blog' let's extract info out of them in the same way."
   ]
  },
  {
   "cell_type": "code",
   "execution_count": 21,
   "metadata": {},
   "outputs": [],
   "source": [
    "content_data_df = tidy.tidy_brainpost_life_hacks(content_data_df)\n",
    "content_data_df = tidy.tidy_blog(content_data_df)"
   ]
  },
  {
   "cell_type": "code",
   "execution_count": 20,
   "metadata": {},
   "outputs": [],
   "source": [
    "#check remaining path for other section names"
   ]
  },
  {
   "cell_type": "code",
   "execution_count": 22,
   "metadata": {},
   "outputs": [
    {
     "name": "stdout",
     "output_type": "stream",
     "text": [
      "['/kayla-simanek', '/about-brainpost/', '/about-brainpost', '/induced-pluripotent-stem-cell-technology', '/occasional-contributors', '/apis/site/proxy', '/faq', '/archives/', '/faq/', '/home', '/contact', '/search', '/blog', '/blog/2019/1/28/scientists-have-got-the-recipe-for-growing-miniature-human-brains-just-right', '/cache.aspx', '/brainpost-workflow-infographic', '/checkout/donate', '/archives']\n"
     ]
    }
   ],
   "source": [
    "paths = []\n",
    "for index, row in content_data_df.iterrows():\n",
    "    if '/weekly-brainpost' not in row['path'] and '/brainpost-life-hacks' not in row['path'] :\n",
    "        paths.append(row['path'])\n",
    "print(list(set(paths)))"
   ]
  },
  {
   "cell_type": "markdown",
   "metadata": {},
   "source": [
    "Now, Let's fill section column for remaining sections with no additional information in path column."
   ]
  },
  {
   "cell_type": "code",
   "execution_count": 23,
   "metadata": {},
   "outputs": [],
   "source": [
    "remaining_section_names = ['home','contact','archives', \n",
    "                           'faq', 'occasional-contributors', \n",
    "                           'about-brainpost', \n",
    "                           'brainpost-workflow-infographic', 'faq', 'search', 'archives', 'checkout'\n",
    "                          ]\n",
    "content_data_df = tidy.set_section_names(content_data_df, remaining_section_names)"
   ]
  },
  {
   "cell_type": "markdown",
   "metadata": {},
   "source": [
    "Now all pages should have sections. Let's check,"
   ]
  },
  {
   "cell_type": "code",
   "execution_count": 24,
   "metadata": {},
   "outputs": [
    {
     "data": {
      "text/html": [
       "<div>\n",
       "<style scoped>\n",
       "    .dataframe tbody tr th:only-of-type {\n",
       "        vertical-align: middle;\n",
       "    }\n",
       "\n",
       "    .dataframe tbody tr th {\n",
       "        vertical-align: top;\n",
       "    }\n",
       "\n",
       "    .dataframe thead th {\n",
       "        text-align: right;\n",
       "    }\n",
       "</style>\n",
       "<table border=\"1\" class=\"dataframe\">\n",
       "  <thead>\n",
       "    <tr style=\"text-align: right;\">\n",
       "      <th></th>\n",
       "      <th>page</th>\n",
       "      <th>section</th>\n",
       "    </tr>\n",
       "  </thead>\n",
       "  <tbody>\n",
       "    <tr>\n",
       "      <th>2708</th>\n",
       "      <td>/kayla-simanek</td>\n",
       "      <td>NaN</td>\n",
       "    </tr>\n",
       "    <tr>\n",
       "      <th>2709</th>\n",
       "      <td>/kayla-simanek</td>\n",
       "      <td>NaN</td>\n",
       "    </tr>\n",
       "    <tr>\n",
       "      <th>2726</th>\n",
       "      <td>/cache.aspx?q=yanmei+zhou+nature+communication...</td>\n",
       "      <td>NaN</td>\n",
       "    </tr>\n",
       "    <tr>\n",
       "      <th>2727</th>\n",
       "      <td>/cache.aspx?q=yanmei+zhou+nature+communication...</td>\n",
       "      <td>NaN</td>\n",
       "    </tr>\n",
       "    <tr>\n",
       "      <th>3854</th>\n",
       "      <td>/apis/site/proxy?url=https://www.brainpost.co/...</td>\n",
       "      <td>NaN</td>\n",
       "    </tr>\n",
       "    <tr>\n",
       "      <th>3855</th>\n",
       "      <td>/apis/site/proxy?url=https://www.brainpost.co/...</td>\n",
       "      <td>NaN</td>\n",
       "    </tr>\n",
       "    <tr>\n",
       "      <th>5068</th>\n",
       "      <td>/kayla-simanek</td>\n",
       "      <td>NaN</td>\n",
       "    </tr>\n",
       "    <tr>\n",
       "      <th>5069</th>\n",
       "      <td>/kayla-simanek</td>\n",
       "      <td>NaN</td>\n",
       "    </tr>\n",
       "    <tr>\n",
       "      <th>6120</th>\n",
       "      <td>/kayla-simanek</td>\n",
       "      <td>NaN</td>\n",
       "    </tr>\n",
       "    <tr>\n",
       "      <th>6121</th>\n",
       "      <td>/kayla-simanek</td>\n",
       "      <td>NaN</td>\n",
       "    </tr>\n",
       "    <tr>\n",
       "      <th>8942</th>\n",
       "      <td>/induced-pluripotent-stem-cell-technology</td>\n",
       "      <td>NaN</td>\n",
       "    </tr>\n",
       "    <tr>\n",
       "      <th>8943</th>\n",
       "      <td>/induced-pluripotent-stem-cell-technology</td>\n",
       "      <td>NaN</td>\n",
       "    </tr>\n",
       "  </tbody>\n",
       "</table>\n",
       "</div>"
      ],
      "text/plain": [
       "                                                   page section\n",
       "2708                                     /kayla-simanek     NaN\n",
       "2709                                     /kayla-simanek     NaN\n",
       "2726  /cache.aspx?q=yanmei+zhou+nature+communication...     NaN\n",
       "2727  /cache.aspx?q=yanmei+zhou+nature+communication...     NaN\n",
       "3854  /apis/site/proxy?url=https://www.brainpost.co/...     NaN\n",
       "3855  /apis/site/proxy?url=https://www.brainpost.co/...     NaN\n",
       "5068                                     /kayla-simanek     NaN\n",
       "5069                                     /kayla-simanek     NaN\n",
       "6120                                     /kayla-simanek     NaN\n",
       "6121                                     /kayla-simanek     NaN\n",
       "8942          /induced-pluripotent-stem-cell-technology     NaN\n",
       "8943          /induced-pluripotent-stem-cell-technology     NaN"
      ]
     },
     "execution_count": 24,
     "metadata": {},
     "output_type": "execute_result"
    }
   ],
   "source": [
    "nosection = content_data_df['section'].isnull() \n",
    "content_data_df[nosection][['page','section']]"
   ]
  },
  {
   "cell_type": "markdown",
   "metadata": {},
   "source": [
    "There are only a few such pages which do not belong to any sections, let's call them ```others```."
   ]
  },
  {
   "cell_type": "code",
   "execution_count": 25,
   "metadata": {},
   "outputs": [],
   "source": [
    "content_data_df['section'] = content_data_df['section'].replace([np.NaN],'other')"
   ]
  },
  {
   "cell_type": "code",
   "execution_count": 25,
   "metadata": {},
   "outputs": [
    {
     "data": {
      "text/html": [
       "<div>\n",
       "<style scoped>\n",
       "    .dataframe tbody tr th:only-of-type {\n",
       "        vertical-align: middle;\n",
       "    }\n",
       "\n",
       "    .dataframe tbody tr th {\n",
       "        vertical-align: top;\n",
       "    }\n",
       "\n",
       "    .dataframe thead th {\n",
       "        text-align: right;\n",
       "    }\n",
       "</style>\n",
       "<table border=\"1\" class=\"dataframe\">\n",
       "  <thead>\n",
       "    <tr style=\"text-align: right;\">\n",
       "      <th></th>\n",
       "      <th>page</th>\n",
       "      <th>section</th>\n",
       "    </tr>\n",
       "  </thead>\n",
       "  <tbody>\n",
       "  </tbody>\n",
       "</table>\n",
       "</div>"
      ],
      "text/plain": [
       "Empty DataFrame\n",
       "Columns: [page, section]\n",
       "Index: []"
      ]
     },
     "execution_count": 25,
     "metadata": {},
     "output_type": "execute_result"
    }
   ],
   "source": [
    "#check if section has null\n",
    "nosection = content_data_df['section'].isnull() \n",
    "content_data_df[nosection][['page','section']]"
   ]
  },
  {
   "cell_type": "markdown",
   "metadata": {},
   "source": [
    "Let's tidy up translation df and save it to the file."
   ]
  },
  {
   "cell_type": "code",
   "execution_count": 26,
   "metadata": {},
   "outputs": [],
   "source": [
    "translation_df = tidy.extend_data_with_info_from_page(translation_df)\n",
    "translation_df = tidy.tidy_weekly_brainpost(translation_df)\n",
    "translation_df = tidy.tidy_brainpost_life_hacks(translation_df)\n",
    "translation_df = tidy.tidy_blog(translation_df)\n",
    "translation_df = tidy.set_section_names(translation_df, remaining_section_names)\n",
    "translation_df.to_csv(f'{DATA_DIR}/translation_df_for_analysis.csv', index=False)"
   ]
  },
  {
   "cell_type": "markdown",
   "metadata": {},
   "source": [
    "For future analysis, let's save the extended dataframe in new csv file."
   ]
  },
  {
   "cell_type": "code",
   "execution_count": 27,
   "metadata": {},
   "outputs": [],
   "source": [
    "content_data_df.to_csv(f'{DATA_DIR}/ext_df_for_analysis.csv', index=False)"
   ]
  },
  {
   "cell_type": "markdown",
   "metadata": {},
   "source": [
    "Now, we have cleaned up data, We can do analysis in next Notebook. - [Data Analysis](data_analysis.ipynb)"
   ]
  }
 ],
 "metadata": {
  "kernelspec": {
   "display_name": "Python 3",
   "language": "python",
   "name": "python3"
  },
  "language_info": {
   "codemirror_mode": {
    "name": "ipython",
    "version": 3
   },
   "file_extension": ".py",
   "mimetype": "text/x-python",
   "name": "python",
   "nbconvert_exporter": "python",
   "pygments_lexer": "ipython3",
   "version": "3.8.3"
  }
 },
 "nbformat": 4,
 "nbformat_minor": 4
}
