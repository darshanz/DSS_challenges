{
 "cells": [
  {
   "cell_type": "markdown",
   "metadata": {},
   "source": [
    "# 2.  Data Cleansing"
   ]
  },
  {
   "cell_type": "markdown",
   "metadata": {},
   "source": [
    "\n",
    "This is the ```second``` notebook of N-Part series of DSS challenge 2 notebooks.\n",
    "\n",
    "- [Data Information](data_information)\n",
    "\n",
    "- Data Cleaning \n",
    "\n",
    "- [Data Analysis](data_analysis.ipynb)\n",
    "\n",
    "\n",
    "In this notebook, we will analyse the page content data. This is a continuation of the [Data Information]() notebook where we had a first look at the data and parsed the excel file to get data in csv format.\n",
    "\n",
    "Here, we will do the data cleaning.\n",
    "\n",
    "Let's start by loading the data."
   ]
  },
  {
   "cell_type": "code",
   "execution_count": 1,
   "metadata": {},
   "outputs": [],
   "source": [
    "import pandas as pd\n",
    "import brainpostpy.brainpost_data_tidy as tidy"
   ]
  },
  {
   "cell_type": "code",
   "execution_count": 2,
   "metadata": {},
   "outputs": [],
   "source": [
    "DATA_DIR = 'data'\n",
    "content_data = 'content_data.csv'\n",
    "page_view_data = 'page_view_data.csv' "
   ]
  },
  {
   "cell_type": "code",
   "execution_count": 3,
   "metadata": {},
   "outputs": [],
   "source": [
    "content_data_df = pd.read_csv(f'{DATA_DIR}/{content_data}')"
   ]
  },
  {
   "cell_type": "code",
   "execution_count": 4,
   "metadata": {
    "scrolled": true
   },
   "outputs": [
    {
     "data": {
      "text/html": [
       "<div>\n",
       "<style scoped>\n",
       "    .dataframe tbody tr th:only-of-type {\n",
       "        vertical-align: middle;\n",
       "    }\n",
       "\n",
       "    .dataframe tbody tr th {\n",
       "        vertical-align: top;\n",
       "    }\n",
       "\n",
       "    .dataframe thead th {\n",
       "        text-align: right;\n",
       "    }\n",
       "</style>\n",
       "<table border=\"1\" class=\"dataframe\">\n",
       "  <thead>\n",
       "    <tr style=\"text-align: right;\">\n",
       "      <th></th>\n",
       "      <th>Page</th>\n",
       "      <th>Source / Medium</th>\n",
       "      <th>Date Range</th>\n",
       "      <th>Pageviews</th>\n",
       "      <th>Unique Pageviews</th>\n",
       "      <th>Avg. Time on Page</th>\n",
       "      <th>Entrances</th>\n",
       "      <th>Bounce Rate</th>\n",
       "      <th>% Exit</th>\n",
       "      <th>Page Value</th>\n",
       "    </tr>\n",
       "  </thead>\n",
       "  <tbody>\n",
       "    <tr>\n",
       "      <th>0</th>\n",
       "      <td>/weekly-brainpost/tag/sharp-wave+ripples</td>\n",
       "      <td>google / organic</td>\n",
       "      <td>Oct 25, 2020 - Oct 31, 2020</td>\n",
       "      <td>1</td>\n",
       "      <td>1</td>\n",
       "      <td>00:00:00</td>\n",
       "      <td>1</td>\n",
       "      <td>1.0</td>\n",
       "      <td>1.0</td>\n",
       "      <td>0</td>\n",
       "    </tr>\n",
       "    <tr>\n",
       "      <th>1</th>\n",
       "      <td>/weekly-brainpost/tag/sharp-wave+ripples</td>\n",
       "      <td>google / organic</td>\n",
       "      <td>Oct 18, 2020 - Oct 24, 2020</td>\n",
       "      <td>0</td>\n",
       "      <td>0</td>\n",
       "      <td>00:00:00</td>\n",
       "      <td>0</td>\n",
       "      <td>0.0</td>\n",
       "      <td>0.0</td>\n",
       "      <td>0</td>\n",
       "    </tr>\n",
       "  </tbody>\n",
       "</table>\n",
       "</div>"
      ],
      "text/plain": [
       "                                       Page   Source / Medium  \\\n",
       "0  /weekly-brainpost/tag/sharp-wave+ripples  google / organic   \n",
       "1  /weekly-brainpost/tag/sharp-wave+ripples  google / organic   \n",
       "\n",
       "                    Date Range  Pageviews  Unique Pageviews Avg. Time on Page  \\\n",
       "0  Oct 25, 2020 - Oct 31, 2020          1                 1          00:00:00   \n",
       "1  Oct 18, 2020 - Oct 24, 2020          0                 0          00:00:00   \n",
       "\n",
       "   Entrances  Bounce Rate  % Exit  Page Value  \n",
       "0          1          1.0     1.0           0  \n",
       "1          0          0.0     0.0           0  "
      ]
     },
     "execution_count": 4,
     "metadata": {},
     "output_type": "execute_result"
    }
   ],
   "source": [
    "content_data_df.head(2)"
   ]
  },
  {
   "cell_type": "markdown",
   "metadata": {},
   "source": [
    "#### Understanding the data Columns\n",
    "\n",
    "- Page\n",
    "    - Page column contains the page information from the URL. The data here has plenty of information related to the page. We just need to organize it.\n",
    "- Source/Medium\n",
    "    - This is the source of the traffic. whether the traffic is organic or from Google or both.\n",
    "- Date range\n",
    "    - This is the date range for the information has start and end date separated by a hyphen.\n",
    "- Pageviews\n",
    "    - Count of page views\n",
    "- Unique page Views\n",
    "    - page views from unique user\n",
    "- Average time spent on page\n",
    "    - This is also self explanatory. The average time is given in the format HH:mm:ss\n",
    "- Entrances\n",
    "    - Number of entrances to the page\n",
    "- Bounce Rate\n",
    "    - Bounce rate of the page\n",
    "- % Exit\n",
    "    - Percentage of exit \n",
    "- Page Value\n",
    "    - [Page value](https://support.google.com/analytics/answer/2695658?hl=en)\n",
    "    \n",
    "    \n",
    "\n",
    "There is so much information, but we need to tidy up the data before we can see some useful insights."
   ]
  },
  {
   "cell_type": "markdown",
   "metadata": {},
   "source": [
    "### Data Cleanup\n",
    "- Let's start cleaning up.  First of all let's first rename the columns."
   ]
  },
  {
   "cell_type": "code",
   "execution_count": 5,
   "metadata": {
    "scrolled": true
   },
   "outputs": [
    {
     "data": {
      "text/html": [
       "<div>\n",
       "<style scoped>\n",
       "    .dataframe tbody tr th:only-of-type {\n",
       "        vertical-align: middle;\n",
       "    }\n",
       "\n",
       "    .dataframe tbody tr th {\n",
       "        vertical-align: top;\n",
       "    }\n",
       "\n",
       "    .dataframe thead th {\n",
       "        text-align: right;\n",
       "    }\n",
       "</style>\n",
       "<table border=\"1\" class=\"dataframe\">\n",
       "  <thead>\n",
       "    <tr style=\"text-align: right;\">\n",
       "      <th></th>\n",
       "      <th>page</th>\n",
       "      <th>source_medium</th>\n",
       "      <th>date_range</th>\n",
       "      <th>pageviews</th>\n",
       "      <th>unique_pageviews</th>\n",
       "      <th>avg_time_on_page</th>\n",
       "      <th>entrances</th>\n",
       "      <th>bounce_rate</th>\n",
       "      <th>percent_exit</th>\n",
       "      <th>page_value</th>\n",
       "    </tr>\n",
       "  </thead>\n",
       "  <tbody>\n",
       "    <tr>\n",
       "      <th>0</th>\n",
       "      <td>/weekly-brainpost/tag/sharp-wave+ripples</td>\n",
       "      <td>google / organic</td>\n",
       "      <td>Oct 25, 2020 - Oct 31, 2020</td>\n",
       "      <td>1</td>\n",
       "      <td>1</td>\n",
       "      <td>00:00:00</td>\n",
       "      <td>1</td>\n",
       "      <td>1.0</td>\n",
       "      <td>1.0</td>\n",
       "      <td>0</td>\n",
       "    </tr>\n",
       "  </tbody>\n",
       "</table>\n",
       "</div>"
      ],
      "text/plain": [
       "                                       page     source_medium  \\\n",
       "0  /weekly-brainpost/tag/sharp-wave+ripples  google / organic   \n",
       "\n",
       "                    date_range  pageviews  unique_pageviews avg_time_on_page  \\\n",
       "0  Oct 25, 2020 - Oct 31, 2020          1                 1         00:00:00   \n",
       "\n",
       "   entrances  bounce_rate  percent_exit  page_value  \n",
       "0          1          1.0           1.0           0  "
      ]
     },
     "execution_count": 5,
     "metadata": {},
     "output_type": "execute_result"
    }
   ],
   "source": [
    "content_data_df = tidy.tidy_column_names(content_data_df)\n",
    "content_data_df.head(1)"
   ]
  },
  {
   "cell_type": "markdown",
   "metadata": {},
   "source": [
    "- Let's keep the ```page``` column as it is for a while. There is a lot to do with that column. we can do it later.\n",
    "- Second column is ```source_medium```, It is a good idea to split ```source``` and ```column```.\n",
    "- We can do the same for ```date_range``` column. Date range can be better represented in two columns as ```start_date``` and ```end_date```."
   ]
  },
  {
   "cell_type": "code",
   "execution_count": 6,
   "metadata": {},
   "outputs": [
    {
     "data": {
      "text/plain": [
       "Index(['page', 'pageviews', 'unique_pageviews', 'avg_time_on_page',\n",
       "       'entrances', 'bounce_rate', 'percent_exit', 'page_value', 'source',\n",
       "       'medium', 'start_date', 'end_date'],\n",
       "      dtype='object')"
      ]
     },
     "execution_count": 6,
     "metadata": {},
     "output_type": "execute_result"
    }
   ],
   "source": [
    "#source_medium\n",
    "content_data_df[['source','medium']] = content_data_df.source_medium.str.split(\"/\",expand=True,)\n",
    "content_data_df = content_data_df.drop(['source_medium'], axis=1)\n",
    "#date_range\n",
    "content_data_df[['start_date','end_date']] = content_data_df.date_range.str.split(\"-\",expand=True,)\n",
    "content_data_df = content_data_df.drop(['date_range'], axis=1)\n",
    "content_data_df.head(1)\n",
    "content_data_df.columns.str.strip() #remve space aroudn the words"
   ]
  },
  {
   "cell_type": "markdown",
   "metadata": {},
   "source": [
    "- Now, the time in ```avg_time_on_page``` column is in hour:minute:seconds format. Let's make it numeric by converting to seconds."
   ]
  },
  {
   "cell_type": "code",
   "execution_count": 7,
   "metadata": {},
   "outputs": [],
   "source": [
    "content_data_df['avg_time_on_page'] = content_data_df['avg_time_on_page'].apply(tidy.time_hhmmss_to_sec)"
   ]
  },
  {
   "cell_type": "markdown",
   "metadata": {},
   "source": [
    "Let's have a look at ```page_value``` column.\n",
    "[Page Value](https://support.google.com/analytics/answer/2695658?hl=en) is the average value for a page that a user visited before landing on the goal page or completing an Ecommerce transaction (or both). "
   ]
  },
  {
   "cell_type": "code",
   "execution_count": 8,
   "metadata": {},
   "outputs": [
    {
     "data": {
      "text/plain": [
       "array([0])"
      ]
     },
     "execution_count": 8,
     "metadata": {},
     "output_type": "execute_result"
    }
   ],
   "source": [
    "content_data_df['page_value'].unique()"
   ]
  },
  {
   "cell_type": "markdown",
   "metadata": {},
   "source": [
    " ```page_value``` column does not have any meaningful data, hence it's not worth keeping. Let's remove that column."
   ]
  },
  {
   "cell_type": "code",
   "execution_count": 9,
   "metadata": {},
   "outputs": [
    {
     "data": {
      "text/html": [
       "<div>\n",
       "<style scoped>\n",
       "    .dataframe tbody tr th:only-of-type {\n",
       "        vertical-align: middle;\n",
       "    }\n",
       "\n",
       "    .dataframe tbody tr th {\n",
       "        vertical-align: top;\n",
       "    }\n",
       "\n",
       "    .dataframe thead th {\n",
       "        text-align: right;\n",
       "    }\n",
       "</style>\n",
       "<table border=\"1\" class=\"dataframe\">\n",
       "  <thead>\n",
       "    <tr style=\"text-align: right;\">\n",
       "      <th></th>\n",
       "      <th>page</th>\n",
       "      <th>pageviews</th>\n",
       "      <th>unique_pageviews</th>\n",
       "      <th>avg_time_on_page</th>\n",
       "      <th>entrances</th>\n",
       "      <th>bounce_rate</th>\n",
       "      <th>percent_exit</th>\n",
       "      <th>source</th>\n",
       "      <th>medium</th>\n",
       "      <th>start_date</th>\n",
       "      <th>end_date</th>\n",
       "    </tr>\n",
       "  </thead>\n",
       "  <tbody>\n",
       "    <tr>\n",
       "      <th>0</th>\n",
       "      <td>/weekly-brainpost/tag/sharp-wave+ripples</td>\n",
       "      <td>1</td>\n",
       "      <td>1</td>\n",
       "      <td>0</td>\n",
       "      <td>1</td>\n",
       "      <td>1.0</td>\n",
       "      <td>1.0</td>\n",
       "      <td>google</td>\n",
       "      <td>organic</td>\n",
       "      <td>Oct 25, 2020</td>\n",
       "      <td>Oct 31, 2020</td>\n",
       "    </tr>\n",
       "  </tbody>\n",
       "</table>\n",
       "</div>"
      ],
      "text/plain": [
       "                                       page  pageviews  unique_pageviews  \\\n",
       "0  /weekly-brainpost/tag/sharp-wave+ripples          1                 1   \n",
       "\n",
       "   avg_time_on_page  entrances  bounce_rate  percent_exit   source    medium  \\\n",
       "0                 0          1          1.0           1.0  google    organic   \n",
       "\n",
       "      start_date       end_date  \n",
       "0  Oct 25, 2020    Oct 31, 2020  "
      ]
     },
     "execution_count": 9,
     "metadata": {},
     "output_type": "execute_result"
    }
   ],
   "source": [
    "content_data_df = content_data_df.drop(['page_value'], axis=1)\n",
    "content_data_df.head(1)"
   ]
  },
  {
   "cell_type": "markdown",
   "metadata": {},
   "source": [
    "###### Now let's get some useful information from the ```page``` column\n",
    "- As the ```page``` column gives us information about the page url, as the url is well optimized, it gives clear information about which category the page belongs. We can see some tag names too. So let's clean it up...\n",
    "- We are interested in paths and querystrings let's check what kind of query strings we have."
   ]
  },
  {
   "cell_type": "code",
   "execution_count": 10,
   "metadata": {},
   "outputs": [],
   "source": [
    "page_vals = content_data_df['page'].values"
   ]
  },
  {
   "cell_type": "code",
   "execution_count": 11,
   "metadata": {},
   "outputs": [
    {
     "name": "stdout",
     "output_type": "stream",
     "text": [
      "\n"
     ]
    }
   ],
   "source": [
    "tidy.check_query_keys(page_vals)"
   ]
  },
  {
   "cell_type": "markdown",
   "metadata": {},
   "source": [
    "Not sure what all of these query strings means but some of them look interesting and useful:\n",
    "\n",
    "- fbclid: Means traffic from link sharing on facebook.\n",
    "- rq : when the page is opened from search result\n",
    "- month:\n",
    "- offset: pagination is clicked\n",
    "- q : search on the site\n",
    "- depth:\n",
    "- back: back link from google.\n",
    "- s: \n",
    "- platform:\n",
    "- ss_source:\n",
    "- amp:\n",
    "- sqsscreenshot:\n",
    "- donatePageId:\n",
    "- url:\n",
    "\n",
    "From, all these query strings we can obtain important information about traffic.\n",
    "Let's extend our dataframe with few extra columns, just in case they can be handy later.."
   ]
  },
  {
   "cell_type": "code",
   "execution_count": 12,
   "metadata": {
    "scrolled": true
   },
   "outputs": [
    {
     "data": {
      "text/html": [
       "<div>\n",
       "<style scoped>\n",
       "    .dataframe tbody tr th:only-of-type {\n",
       "        vertical-align: middle;\n",
       "    }\n",
       "\n",
       "    .dataframe tbody tr th {\n",
       "        vertical-align: top;\n",
       "    }\n",
       "\n",
       "    .dataframe thead th {\n",
       "        text-align: right;\n",
       "    }\n",
       "</style>\n",
       "<table border=\"1\" class=\"dataframe\">\n",
       "  <thead>\n",
       "    <tr style=\"text-align: right;\">\n",
       "      <th></th>\n",
       "      <th>page</th>\n",
       "      <th>pageviews</th>\n",
       "      <th>unique_pageviews</th>\n",
       "      <th>avg_time_on_page</th>\n",
       "      <th>entrances</th>\n",
       "      <th>bounce_rate</th>\n",
       "      <th>percent_exit</th>\n",
       "      <th>source</th>\n",
       "      <th>medium</th>\n",
       "      <th>start_date</th>\n",
       "      <th>end_date</th>\n",
       "      <th>path</th>\n",
       "      <th>from_facebook</th>\n",
       "      <th>google_keyword</th>\n",
       "      <th>from_google</th>\n",
       "      <th>search_keyword</th>\n",
       "      <th>sqsscreenshot</th>\n",
       "      <th>platform</th>\n",
       "    </tr>\n",
       "  </thead>\n",
       "  <tbody>\n",
       "    <tr>\n",
       "      <th>0</th>\n",
       "      <td>/weekly-brainpost/tag/sharp-wave+ripples</td>\n",
       "      <td>1</td>\n",
       "      <td>1</td>\n",
       "      <td>0</td>\n",
       "      <td>1</td>\n",
       "      <td>1.0</td>\n",
       "      <td>1.0</td>\n",
       "      <td>google</td>\n",
       "      <td>organic</td>\n",
       "      <td>Oct 25, 2020</td>\n",
       "      <td>Oct 31, 2020</td>\n",
       "      <td>/weekly-brainpost/tag/sharp-wave+ripples</td>\n",
       "      <td>NaN</td>\n",
       "      <td>NaN</td>\n",
       "      <td>NaN</td>\n",
       "      <td>NaN</td>\n",
       "      <td>NaN</td>\n",
       "      <td>NaN</td>\n",
       "    </tr>\n",
       "    <tr>\n",
       "      <th>1</th>\n",
       "      <td>/weekly-brainpost/tag/sharp-wave+ripples</td>\n",
       "      <td>0</td>\n",
       "      <td>0</td>\n",
       "      <td>0</td>\n",
       "      <td>0</td>\n",
       "      <td>0.0</td>\n",
       "      <td>0.0</td>\n",
       "      <td>google</td>\n",
       "      <td>organic</td>\n",
       "      <td>Oct 18, 2020</td>\n",
       "      <td>Oct 24, 2020</td>\n",
       "      <td>/weekly-brainpost/tag/sharp-wave+ripples</td>\n",
       "      <td>NaN</td>\n",
       "      <td>NaN</td>\n",
       "      <td>NaN</td>\n",
       "      <td>NaN</td>\n",
       "      <td>NaN</td>\n",
       "      <td>NaN</td>\n",
       "    </tr>\n",
       "    <tr>\n",
       "      <th>2</th>\n",
       "      <td>/weekly-brainpost/tag/precentral+gyrus</td>\n",
       "      <td>0</td>\n",
       "      <td>0</td>\n",
       "      <td>0</td>\n",
       "      <td>0</td>\n",
       "      <td>0.0</td>\n",
       "      <td>0.0</td>\n",
       "      <td>google</td>\n",
       "      <td>organic</td>\n",
       "      <td>Oct 25, 2020</td>\n",
       "      <td>Oct 31, 2020</td>\n",
       "      <td>/weekly-brainpost/tag/precentral+gyrus</td>\n",
       "      <td>NaN</td>\n",
       "      <td>NaN</td>\n",
       "      <td>NaN</td>\n",
       "      <td>NaN</td>\n",
       "      <td>NaN</td>\n",
       "      <td>NaN</td>\n",
       "    </tr>\n",
       "    <tr>\n",
       "      <th>3</th>\n",
       "      <td>/weekly-brainpost/tag/precentral+gyrus</td>\n",
       "      <td>1</td>\n",
       "      <td>1</td>\n",
       "      <td>0</td>\n",
       "      <td>1</td>\n",
       "      <td>1.0</td>\n",
       "      <td>1.0</td>\n",
       "      <td>google</td>\n",
       "      <td>organic</td>\n",
       "      <td>Oct 18, 2020</td>\n",
       "      <td>Oct 24, 2020</td>\n",
       "      <td>/weekly-brainpost/tag/precentral+gyrus</td>\n",
       "      <td>NaN</td>\n",
       "      <td>NaN</td>\n",
       "      <td>NaN</td>\n",
       "      <td>NaN</td>\n",
       "      <td>NaN</td>\n",
       "      <td>NaN</td>\n",
       "    </tr>\n",
       "    <tr>\n",
       "      <th>4</th>\n",
       "      <td>/weekly-brainpost/tag/NMDA+blockers</td>\n",
       "      <td>2</td>\n",
       "      <td>2</td>\n",
       "      <td>414</td>\n",
       "      <td>2</td>\n",
       "      <td>0.5</td>\n",
       "      <td>0.5</td>\n",
       "      <td>google</td>\n",
       "      <td>organic</td>\n",
       "      <td>Oct 25, 2020</td>\n",
       "      <td>Oct 31, 2020</td>\n",
       "      <td>/weekly-brainpost/tag/NMDA+blockers</td>\n",
       "      <td>NaN</td>\n",
       "      <td>NaN</td>\n",
       "      <td>NaN</td>\n",
       "      <td>NaN</td>\n",
       "      <td>NaN</td>\n",
       "      <td>NaN</td>\n",
       "    </tr>\n",
       "  </tbody>\n",
       "</table>\n",
       "</div>"
      ],
      "text/plain": [
       "                                       page  pageviews  unique_pageviews  \\\n",
       "0  /weekly-brainpost/tag/sharp-wave+ripples          1                 1   \n",
       "1  /weekly-brainpost/tag/sharp-wave+ripples          0                 0   \n",
       "2    /weekly-brainpost/tag/precentral+gyrus          0                 0   \n",
       "3    /weekly-brainpost/tag/precentral+gyrus          1                 1   \n",
       "4       /weekly-brainpost/tag/NMDA+blockers          2                 2   \n",
       "\n",
       "   avg_time_on_page  entrances  bounce_rate  percent_exit   source    medium  \\\n",
       "0                 0          1          1.0           1.0  google    organic   \n",
       "1                 0          0          0.0           0.0  google    organic   \n",
       "2                 0          0          0.0           0.0  google    organic   \n",
       "3                 0          1          1.0           1.0  google    organic   \n",
       "4               414          2          0.5           0.5  google    organic   \n",
       "\n",
       "      start_date       end_date                                      path  \\\n",
       "0  Oct 25, 2020    Oct 31, 2020  /weekly-brainpost/tag/sharp-wave+ripples   \n",
       "1  Oct 18, 2020    Oct 24, 2020  /weekly-brainpost/tag/sharp-wave+ripples   \n",
       "2  Oct 25, 2020    Oct 31, 2020    /weekly-brainpost/tag/precentral+gyrus   \n",
       "3  Oct 18, 2020    Oct 24, 2020    /weekly-brainpost/tag/precentral+gyrus   \n",
       "4  Oct 25, 2020    Oct 31, 2020       /weekly-brainpost/tag/NMDA+blockers   \n",
       "\n",
       "  from_facebook google_keyword from_google search_keyword sqsscreenshot  \\\n",
       "0           NaN            NaN         NaN            NaN           NaN   \n",
       "1           NaN            NaN         NaN            NaN           NaN   \n",
       "2           NaN            NaN         NaN            NaN           NaN   \n",
       "3           NaN            NaN         NaN            NaN           NaN   \n",
       "4           NaN            NaN         NaN            NaN           NaN   \n",
       "\n",
       "  platform  \n",
       "0      NaN  \n",
       "1      NaN  \n",
       "2      NaN  \n",
       "3      NaN  \n",
       "4      NaN  "
      ]
     },
     "execution_count": 12,
     "metadata": {},
     "output_type": "execute_result"
    }
   ],
   "source": [
    "content_data_df = tidy.extend_data_with_info_from_page(content_data_df)\n",
    "content_data_df.head()"
   ]
  },
  {
   "cell_type": "markdown",
   "metadata": {},
   "source": [
    "For future analysis, let's save the dataframe in new csv file."
   ]
  },
  {
   "cell_type": "code",
   "execution_count": 16,
   "metadata": {},
   "outputs": [],
   "source": [
    "content_data_df.to_csv(f'{DATA_DIR}/ext_df_for_analysis.csv', index=False)"
   ]
  },
  {
   "cell_type": "markdown",
   "metadata": {},
   "source": [
    "Now, we have an extended dataframe, We can do analysis in next Notebook. - [Data Analysis](data_analysis.ipynb)"
   ]
  }
 ],
 "metadata": {
  "kernelspec": {
   "display_name": "Python 3",
   "language": "python",
   "name": "python3"
  },
  "language_info": {
   "codemirror_mode": {
    "name": "ipython",
    "version": 3
   },
   "file_extension": ".py",
   "mimetype": "text/x-python",
   "name": "python",
   "nbconvert_exporter": "python",
   "pygments_lexer": "ipython3",
   "version": "3.7.6"
  }
 },
 "nbformat": 4,
 "nbformat_minor": 4
}
