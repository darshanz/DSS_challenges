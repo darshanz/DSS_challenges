{
 "cells": [
  {
   "cell_type": "markdown",
   "metadata": {},
   "source": [
    "# 3. Data Analysis\n",
    "\n",
    "\n",
    "\n",
    "This is the ```third``` notebook of N-Part series of DSS challenge 2 notebooks.\n",
    "\n",
    "- [Data Information](01_data_information)\n",
    "\n",
    "- [Data Cleaning ](02_data_cleaning)\n",
    "\n",
    "- Data Analysis\n",
    "\n",
    "\n",
    "In this notebook, we will analyse the page content data. This is a continuation of the [Data Information]() notebook where we had a first look at the data and parsed the excel file to get data in csv format.\n",
    "\n",
    "Here, we will do the data cleaning.\n",
    "\n",
    "Let's start by loading the data."
   ]
  }
 ],
 "metadata": {
  "kernelspec": {
   "display_name": "Python 3",
   "language": "python",
   "name": "python3"
  },
  "language_info": {
   "codemirror_mode": {
    "name": "ipython",
    "version": 3
   },
   "file_extension": ".py",
   "mimetype": "text/x-python",
   "name": "python",
   "nbconvert_exporter": "python",
   "pygments_lexer": "ipython3",
   "version": "3.8.3"
  }
 },
 "nbformat": 4,
 "nbformat_minor": 4
}
